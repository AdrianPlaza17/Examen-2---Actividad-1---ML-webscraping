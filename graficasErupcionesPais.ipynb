{
 "cells": [
  {
   "cell_type": "code",
   "execution_count": 3,
   "id": "ea7e3176",
   "metadata": {},
   "outputs": [
    {
     "name": "stdout",
     "output_type": "stream",
     "text": [
      "Estados Unidos :  173\n",
      "Rusia :  145\n",
      "Chile :  76\n",
      "Indonesia :  139\n",
      "Japon :  112\n",
      "Italia :  16\n",
      "Otros :  848\n"
     ]
    },
    {
     "data": {
      "image/png": "[encoded data removed]",
      "text/plain": [
       "<Figure size 432x288 with 1 Axes>"
      ]
     },
     "metadata": {
      "needs_background": "light"
     },
     "output_type": "display_data"
    }
   ],
   "source": [
    "import csv\n",
    "import numpy as np\n",
    "import matplotlib.pyplot as plt\n",
    "\n",
    "with open('database.csv') as csv_file:\n",
    "    csv_reader = csv.reader(csv_file, delimiter=',')\n",
    "    line_count = 0\n",
    "    \n",
    "    usa=0\n",
    "    rusia=0\n",
    "    chile=0\n",
    "    indonesia=0\n",
    "    japan=0\n",
    "    italia=0\n",
    "    other=0\n",
    "    \n",
    "    for row in csv_reader:\n",
    "        if (row[2]==\"United States\"):\n",
    "            usa=usa+1\n",
    "        elif (row[2]==\"Russia\"):\n",
    "            rusia=rusia+1\n",
    "        elif (row[2]==\"Chile\"):\n",
    "            chile=chile+1\n",
    "        elif (row[2]==\"Indonesia\"):\n",
    "            indonesia=indonesia+1\n",
    "        elif (row[2]==\"Japan\"):\n",
    "            japan=japan+1\n",
    "        elif (row[2]==\"Italy\"):\n",
    "            italia=italia+1\n",
    "        else:\n",
    "            other=other+1\n",
    "    erupciones={\"Estados Unidos\":usa, \"Rusia\":rusia,\"Chile\":chile,\"Indonesia\":indonesia,\"Japon\":japan,\"Italia\":italia, \"Otros\":other}\n",
    "    \n",
    "    eje_x = []\n",
    "    eje_y = []\n",
    "    \n",
    "    for i, j in erupciones.items():\n",
    "        print(i,\": \", j )\n",
    "        eje_x.append(i)\n",
    "        eje_y.append(j)\n",
    "\n",
    "\n",
    "    plt.bar(eje_x, eje_y)\n",
    "\n",
    "    plt.ylabel('Numero de erupciones')\n",
    "\n",
    "    plt.xlabel('Paises')\n",
    "\n",
    "    plt.title('Paises con mas erupciones')\n",
    "\n",
    "    plt.show()"
   ]
  },
  {
   "cell_type": "markdown",
   "id": "f3400cc6",
   "metadata": {},
   "source": [
    "<p>Database: https://www.kaggle.com/smithsonian/volcanic-eruptions</p>"
   ]
  }
 ],
 "metadata": {
  "kernelspec": {
   "display_name": "Python 3",
   "language": "python",
   "name": "python3"
  },
  "language_info": {
   "codemirror_mode": {
    "name": "ipython",
    "version": 3
   },
   "file_extension": ".py",
   "mimetype": "text/x-python",
   "name": "python",
   "nbconvert_exporter": "python",
   "pygments_lexer": "ipython3",
   "version": "3.8.8"
  }
 },
 "nbformat": 4,
 "nbformat_minor": 5
}
